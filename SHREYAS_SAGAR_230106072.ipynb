{
 "cells": [
  {
   "cell_type": "code",
   "execution_count": 1,
   "metadata": {},
   "outputs": [],
   "source": [
    "import pandas as pd\n",
    "import numpy as np\n",
    "from sklearn.model_selection import train_test_split\n",
    "from sklearn.preprocessing import StandardScaler, OneHotEncoder\n",
    "from sklearn.compose import ColumnTransformer\n",
    "from sklearn.pipeline import Pipeline\n",
    "from sklearn.impute import SimpleImputer"
   ]
  },
  {
   "cell_type": "markdown",
   "metadata": {},
   "source": [
    "## LOADING THE GIVEN DATASETS"
   ]
  },
  {
   "cell_type": "code",
   "execution_count": 2,
   "metadata": {},
   "outputs": [],
   "source": [
    "train_features = pd.read_csv('training_set_features.csv')\n",
    "train_labels = pd.read_csv('training_set_labels.csv')\n",
    "test_features = pd.read_csv('test_set_features.csv')\n",
    "submission_format = pd.read_csv('submission_format.csv')"
   ]
  },
  {
   "cell_type": "markdown",
   "metadata": {},
   "source": [
    "## MERGING FEATURES AND LABELS"
   ]
  },
  {
   "cell_type": "code",
   "execution_count": 3,
   "metadata": {},
   "outputs": [],
   "source": [
    "train_data = train_features.merge(train_labels, on='respondent_id')"
   ]
  },
  {
   "cell_type": "code",
   "execution_count": 4,
   "metadata": {},
   "outputs": [
    {
     "name": "stdout",
     "output_type": "stream",
     "text": [
      "['respondent_id', 'xyz_concern', 'xyz_knowledge', 'behavioral_antiviral_meds', 'behavioral_avoidance', 'behavioral_face_mask', 'behavioral_wash_hands', 'behavioral_large_gatherings', 'behavioral_outside_home', 'behavioral_touch_face', 'doctor_recc_xyz', 'doctor_recc_seasonal', 'chronic_med_condition', 'child_under_6_months', 'health_worker', 'health_insurance', 'opinion_xyz_vacc_effective', 'opinion_xyz_risk', 'opinion_xyz_sick_from_vacc', 'opinion_seas_vacc_effective', 'opinion_seas_risk', 'opinion_seas_sick_from_vacc', 'age_group', 'education', 'race', 'sex', 'income_poverty', 'marital_status', 'rent_or_own', 'employment_status', 'hhs_geo_region', 'census_msa', 'household_adults', 'household_children', 'employment_industry', 'employment_occupation']\n"
     ]
    }
   ],
   "source": [
    "import csv\n",
    "\n",
    "def get_column_names(csv_file):\n",
    "    with open(csv_file, 'r') as f:\n",
    "        reader = csv.reader(f)\n",
    "        return next(reader)\n",
    "\n",
    "csv_file = 'test_set_features.csv'\n",
    "column_names = get_column_names(csv_file)\n",
    "print(column_names)"
   ]
  },
  {
   "cell_type": "code",
   "execution_count": 5,
   "metadata": {},
   "outputs": [
    {
     "name": "stdout",
     "output_type": "stream",
     "text": [
      "Number of columns: 36\n"
     ]
    }
   ],
   "source": [
    "import csv\n",
    "\n",
    "def get_num_columns(csv_file):\n",
    "    with open(csv_file, 'r') as f:\n",
    "        reader = csv.reader(f)\n",
    "        return len(next(reader))\n",
    "\n",
    "csv_file = 'test_set_features.csv'\n",
    "num_columns = get_num_columns(csv_file)\n",
    "print(f'Number of columns: {num_columns}')"
   ]
  },
  {
   "cell_type": "markdown",
   "metadata": {},
   "source": [
    "## SEPERATE THE FEATURE COLUMNS"
   ]
  },
  {
   "cell_type": "code",
   "execution_count": 6,
   "metadata": {},
   "outputs": [],
   "source": [
    "categorical_features = [\n",
    "    'age_group', 'education', 'race', 'sex', 'income_poverty', \n",
    "    'marital_status', 'rent_or_own', 'employment_status', 'hhs_geo_region', \n",
    "    'census_msa', 'employment_industry', 'employment_occupation'\n",
    "]\n",
    "numerical_features = [\n",
    "    'xyz_concern', 'xyz_knowledge', 'behavioral_antiviral_meds', \n",
    "    'behavioral_avoidance', 'behavioral_face_mask', 'behavioral_wash_hands', \n",
    "    'behavioral_large_gatherings', 'behavioral_outside_home', \n",
    "    'behavioral_touch_face', 'doctor_recc_xyz', 'doctor_recc_seasonal', \n",
    "    'chronic_med_condition', 'child_under_6_months', 'health_worker', \n",
    "    'health_insurance', 'opinion_xyz_vacc_effective', 'opinion_xyz_risk', \n",
    "    'opinion_xyz_sick_from_vacc', 'opinion_seas_vacc_effective', \n",
    "    'opinion_seas_risk', 'opinion_seas_sick_from_vacc', 'household_adults', \n",
    "    'household_children'\n",
    "]"
   ]
  },
  {
   "cell_type": "markdown",
   "metadata": {},
   "source": [
    "## Preprocessing pipelines for both numerical and categorical data"
   ]
  },
  {
   "cell_type": "code",
   "execution_count": 7,
   "metadata": {},
   "outputs": [],
   "source": [
    "numerical_transformer = Pipeline(steps=[\n",
    "    ('imputer', SimpleImputer(strategy='median')),\n",
    "    ('scaler', StandardScaler())\n",
    "])\n",
    "\n",
    "categorical_transformer = Pipeline(steps=[\n",
    "    ('imputer', SimpleImputer(strategy='most_frequent')),\n",
    "    ('onehot', OneHotEncoder(handle_unknown='ignore'))\n",
    "])"
   ]
  },
  {
   "cell_type": "markdown",
   "metadata": {},
   "source": [
    "## Combine both transformers into a single column transformer"
   ]
  },
  {
   "cell_type": "code",
   "execution_count": 8,
   "metadata": {},
   "outputs": [],
   "source": [
    "preprocessor = ColumnTransformer(\n",
    "    transformers=[\n",
    "        ('num', numerical_transformer, numerical_features),\n",
    "        ('cat', categorical_transformer, categorical_features)\n",
    "    ]\n",
    ")"
   ]
  },
  {
   "cell_type": "markdown",
   "metadata": {},
   "source": [
    "## Preprocessing training data"
   ]
  },
  {
   "cell_type": "code",
   "execution_count": 9,
   "metadata": {},
   "outputs": [],
   "source": [
    "X = train_data.drop(columns=['respondent_id', 'xyz_vaccine', 'seasonal_vaccine'])\n",
    "y = train_data[['xyz_vaccine', 'seasonal_vaccine']]\n",
    "X_test = test_features.drop(columns=['respondent_id'])\n",
    "\n",
    "X_preprocessed = preprocessor.fit_transform(X)\n",
    "X_test_preprocessed = preprocessor.transform(X_test)"
   ]
  },
  {
   "cell_type": "markdown",
   "metadata": {},
   "source": [
    "## Combine both transformers into a single column transformer"
   ]
  },
  {
   "cell_type": "code",
   "execution_count": 10,
   "metadata": {},
   "outputs": [],
   "source": [
    "preprocessor = ColumnTransformer(\n",
    "    transformers=[\n",
    "        ('num', numerical_transformer, numerical_features),\n",
    "        ('cat', categorical_transformer, categorical_features)\n",
    "    ]\n",
    ")"
   ]
  },
  {
   "cell_type": "markdown",
   "metadata": {},
   "source": [
    "## Preprocessing training data"
   ]
  },
  {
   "cell_type": "code",
   "execution_count": 11,
   "metadata": {},
   "outputs": [],
   "source": [
    "X = train_data.drop(columns=['respondent_id', 'xyz_vaccine', 'seasonal_vaccine'])\n",
    "y = train_data[['xyz_vaccine', 'seasonal_vaccine']]\n",
    "X_test = test_features.drop(columns=['respondent_id'])\n",
    "\n",
    "X_preprocessed = preprocessor.fit_transform(X)\n",
    "X_test_preprocessed = preprocessor.transform(X_test)\n"
   ]
  },
  {
   "cell_type": "markdown",
   "metadata": {},
   "source": [
    "## Splitting training data for verification"
   ]
  },
  {
   "cell_type": "code",
   "execution_count": 12,
   "metadata": {},
   "outputs": [],
   "source": [
    "X_train, X_val, y_train, y_val = train_test_split(X_preprocessed, y, test_size=0.2, random_state=42)"
   ]
  },
  {
   "cell_type": "markdown",
   "metadata": {},
   "source": [
    "# Model building and Evaluation"
   ]
  },
  {
   "cell_type": "code",
   "execution_count": 13,
   "metadata": {},
   "outputs": [],
   "source": [
    "from sklearn.svm import SVC\n",
    "from sklearn.linear_model import LogisticRegression\n",
    "from sklearn.naive_bayes import GaussianNB\n",
    "from sklearn.multioutput import MultiOutputClassifier\n",
    "from sklearn.metrics import roc_auc_score"
   ]
  },
  {
   "cell_type": "markdown",
   "metadata": {},
   "source": [
    "## Different Models"
   ]
  },
  {
   "cell_type": "code",
   "execution_count": 14,
   "metadata": {},
   "outputs": [],
   "source": [
    "models = {\n",
    "    'SVM': SVC(probability=True, random_state=42),\n",
    "    'Logistic Regression': LogisticRegression(max_iter=1000, random_state=42),\n",
    "    'Naive Bayes': GaussianNB()\n",
    "}"
   ]
  },
  {
   "cell_type": "markdown",
   "metadata": {},
   "source": [
    "## Dictionary to socre ROC AUC scores"
   ]
  },
  {
   "cell_type": "code",
   "execution_count": 15,
   "metadata": {},
   "outputs": [],
   "source": [
    "roc_auc_scores = {}"
   ]
  },
  {
   "cell_type": "markdown",
   "metadata": {},
   "source": [
    "## Training and evaluating each model "
   ]
  },
  {
   "cell_type": "code",
   "execution_count": 16,
   "metadata": {},
   "outputs": [
    {
     "name": "stdout",
     "output_type": "stream",
     "text": [
      "Training SVM...\n",
      "SVM ROC AUC: XYZ Vaccine: 0.8051544680600727, Seasonal Vaccine: 0.8553902070339992, Mean: 0.830272337547036\n",
      "Training Logistic Regression...\n",
      "Logistic Regression ROC AUC: XYZ Vaccine: 0.8313867248233029, Seasonal Vaccine: 0.8560581587986521, Mean: 0.8437224418109774\n",
      "Training Naive Bayes...\n",
      "Naive Bayes ROC AUC: XYZ Vaccine: 0.7096002571666289, Seasonal Vaccine: 0.7419565299306039, Mean: 0.7257783935486164\n"
     ]
    }
   ],
   "source": [
    "for model_name, model in models.items():\n",
    "    print(f'Training {model_name}...')\n",
    "    # Wrap the model in a MultiOutputClassifier to handle multilabel targets\n",
    "    clf = MultiOutputClassifier(model)\n",
    "    clf.fit(X_train, y_train)\n",
    "    \n",
    "    # Predict probabilities\n",
    "    y_pred_proba = clf.predict_proba(X_val)\n",
    "    \n",
    "    # Extract probabilities for each label\n",
    "    y_pred_proba_xyz = y_pred_proba[0][:, 1]\n",
    "    y_pred_proba_seasonal = y_pred_proba[1][:, 1]\n",
    "    \n",
    "    # Calculate ROC AUC scores for each target\n",
    "    roc_auc_xyz = roc_auc_score(y_val['xyz_vaccine'], y_pred_proba_xyz)\n",
    "    roc_auc_seasonal = roc_auc_score(y_val['seasonal_vaccine'], y_pred_proba_seasonal)\n",
    "    \n",
    "    # Store the mean ROC AUC score\n",
    "    roc_auc_scores[model_name] = (roc_auc_xyz + roc_auc_seasonal) / 2\n",
    "    print(f'{model_name} ROC AUC: XYZ Vaccine: {roc_auc_xyz}, Seasonal Vaccine: {roc_auc_seasonal}, Mean: {roc_auc_scores[model_name]}')"
   ]
  },
  {
   "cell_type": "markdown",
   "metadata": {},
   "source": [
    "# Prediction and Submission"
   ]
  },
  {
   "cell_type": "code",
   "execution_count": 18,
   "metadata": {},
   "outputs": [
    {
     "name": "stdout",
     "output_type": "stream",
     "text": [
      "Best model: Logistic Regression\n",
      "submission_230106072_SHREYAS_SAGAR.csv\n"
     ]
    }
   ],
   "source": [
    "# Choose the best model based on the mean ROC AUC score\n",
    "best_model_name = max(roc_auc_scores, key=roc_auc_scores.get)\n",
    "best_model = models[best_model_name]\n",
    "print(f'Best model: {best_model_name}')\n",
    "\n",
    "# Train the best model on the full training data\n",
    "best_clf = MultiOutputClassifier(best_model)\n",
    "best_clf.fit(X_preprocessed, y)\n",
    "\n",
    "# Make predictions on the test set\n",
    "y_test_pred_proba = best_clf.predict_proba(X_test_preprocessed)\n",
    "\n",
    "# Extract probabilities for each target\n",
    "y_test_pred_proba_xyz = y_test_pred_proba[0][:, 1]\n",
    "y_test_pred_proba_seasonal = y_test_pred_proba[1][:, 1]\n",
    "\n",
    "# Prepare submission DataFrame\n",
    "submission = pd.DataFrame({\n",
    "    'respondent_id': test_features['respondent_id'],\n",
    "    'xyz_vaccine': y_test_pred_proba_xyz,\n",
    "    'seasonal_vaccine': y_test_pred_proba_seasonal\n",
    "})\n",
    "\n",
    "# Save to CSV\n",
    "submission.to_csv('submission_230106072_SHREYAS_SAGAR.csv', index=False)\n",
    "print('submission_230106072_SHREYAS_SAGAR.csv')"
   ]
  }
 ],
 "metadata": {
  "kernelspec": {
   "display_name": "Python 3",
   "language": "python",
   "name": "python3"
  },
  "language_info": {
   "codemirror_mode": {
    "name": "ipython",
    "version": 3
   },
   "file_extension": ".py",
   "mimetype": "text/x-python",
   "name": "python",
   "nbconvert_exporter": "python",
   "pygments_lexer": "ipython3",
   "version": "3.12.3"
  }
 },
 "nbformat": 4,
 "nbformat_minor": 2
}
